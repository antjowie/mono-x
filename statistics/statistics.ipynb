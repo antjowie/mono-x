{
 "cells": [
  {
   "cell_type": "code",
   "execution_count": 11,
   "id": "feb0053b-4dcb-43dd-a6e1-5e2fff470cf3",
   "metadata": {
    "tags": []
   },
   "outputs": [
    {
     "name": "stdout",
     "output_type": "stream",
     "text": [
      "len 12\n",
      "raw data [16, 18, 28, 13, 50, 31, 25, 22, 18, 23, 29, 38]\n",
      "data [13, 16, 18, 18, 22, 23, 25, 28, 29, 31, 38, 50]\n",
      "min 13\n",
      "max 50\n",
      "mean 25.916666666666668\n",
      "median 24.0\n",
      "mode [18]\n",
      "lower [13, 16, 18, 18, 22, 23]\n",
      "upper [25, 28, 29, 31, 38, 50]\n",
      "q1 18.0\n",
      "q2 24.0\n",
      "q3 30.0\n",
      "iqr 12.0\n",
      "outliers [50]\n"
     ]
    }
   ],
   "source": [
    "# https://www.youtube.com/watch?v=XZo4xyJXCak\n",
    "# Intro\n",
    "import math\n",
    "# data = [7, 11, 14, 5, 8, 27, 16, 10, 13, 17, 16]\n",
    "data = [16, 18, 28, 13, 50, 31, 25, 22, 18, 23, 29, 38]\n",
    "\n",
    "# 1. calculate mean, median, mode and range\n",
    "# 2. calculate q1, q2 and q3\n",
    "# 3. calculate the interquartile range (iqr)\n",
    "# 4. calculate any outliers\n",
    "\n",
    "def calc_mean(arr):\n",
    "    return sum(arr) / len(arr)\n",
    "\n",
    "def calc_median(arr):\n",
    "    middle = len(arr) / 2\n",
    "    if middle == round(middle):\n",
    "        return (arr[int(middle) - 1] + arr[int(middle)]) / 2\n",
    "    else:\n",
    "        return arr[round(middle)]\n",
    "\n",
    "print(\"len\", len(data))\n",
    "print(\"raw data\", data)\n",
    "data.sort()\n",
    "print(\"data\", data)\n",
    "print(\"min\", data[0])\n",
    "print(\"max\", data[len(data) - 1])\n",
    "\n",
    "mean = calc_mean(data)\n",
    "print(\"mean\", mean)\n",
    "\n",
    "median = calc_median(data)\n",
    "print(\"median\", median)\n",
    "\n",
    "mode = []\n",
    "most_count = 0\n",
    "match = {}\n",
    "for i in range(0, len(data)):\n",
    "    key = data[i]\n",
    "    count = match.get(key, 0) + 1 \n",
    "    match[key] = count\n",
    "    if count > most_count:\n",
    "        most_count = count\n",
    "        mode = []\n",
    "    if count == most_count:\n",
    "        mode.append(key)\n",
    "print(\"mode\", mode)\n",
    "        \n",
    "# We have 11 numbers. when we have an uneven amount of numbers:\n",
    "# lower half is first 5, and upper half is last 5. \n",
    "# NOTE: 6th number is dropped. Lower and upper half MUST have the same amount of numbers\n",
    "lower = data[slice(0, math.floor(len(data)/2))]\n",
    "print(\"lower\", lower)\n",
    "upper = data[slice(math.ceil(len(data)/2), len(data))]\n",
    "print(\"upper\", upper)\n",
    "q1 = calc_median(lower)\n",
    "q2 = calc_median(data)\n",
    "q3 = calc_median(upper)\n",
    "print(\"q1\", q1)\n",
    "print(\"q2\", q2)\n",
    "print(\"q3\", q3)\n",
    "\n",
    "iqr = q3 - q1\n",
    "print(\"iqr\", iqr)\n",
    "\n",
    "outliers = []\n",
    "for i in range(0, len(data)):\n",
    "    if data[i] < q1 - 1.5 * iqr or data[i] > q3 + 1.5 * iqr:\n",
    "       outliers.append(data[i])\n",
    "\n",
    "print(\"outliers\", outliers)"
   ]
  },
  {
   "cell_type": "markdown",
   "id": "3c90e1db-339e-4601-9894-d69fab52011d",
   "metadata": {},
   "source": [
    "1. Whisker plot\n",
    "2. Skewed to the right, positive skew. Tail on right side. mean > median\n",
    "3. DotPlot"
   ]
  }
 ],
 "metadata": {
  "kernelspec": {
   "display_name": "Python 3 (ipykernel)",
   "language": "python",
   "name": "python3"
  },
  "language_info": {
   "codemirror_mode": {
    "name": "ipython",
    "version": 3
   },
   "file_extension": ".py",
   "mimetype": "text/x-python",
   "name": "python",
   "nbconvert_exporter": "python",
   "pygments_lexer": "ipython3",
   "version": "3.7.9"
  },
  "toc-autonumbering": true
 },
 "nbformat": 4,
 "nbformat_minor": 5
}
