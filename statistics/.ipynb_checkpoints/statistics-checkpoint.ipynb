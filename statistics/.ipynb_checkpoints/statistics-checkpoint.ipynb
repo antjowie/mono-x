{
 "cells": [
  {
   "cell_type": "code",
   "execution_count": 46,
   "id": "feb0053b-4dcb-43dd-a6e1-5e2fff470cf3",
   "metadata": {
    "tags": []
   },
   "outputs": [
    {
     "name": "stdout",
     "output_type": "stream",
     "text": [
      "len 11\n",
      "raw data [7, 11, 14, 5, 8, 27, 16, 10, 13, 17, 16]\n",
      "data [5, 7, 8, 10, 11, 13, 14, 16, 16, 17, 27]\n",
      "mean 13.090909090909092\n",
      "median 14\n",
      "mode [16]\n",
      "lower [5, 7, 8, 10, 11]\n",
      "upper [14, 16, 16, 17, 27]\n",
      "q1 8\n",
      "q2 14\n",
      "q3 16\n",
      "iqr 8\n",
      "outliers []\n"
     ]
    }
   ],
   "source": [
    "# https://www.youtube.com/watch?v=XZo4xyJXCak\n",
    "# Intro\n",
    "import math\n",
    "data = [7, 11, 14, 5, 8, 27, 16, 10, 13, 17, 16]\n",
    "\n",
    "# 1. calculate mean, median, mode and range\n",
    "# 2. calculate q1, q2 and q3\n",
    "# 3. calculate the interquartile range (iqr)\n",
    "# 4. calculate any outliers\n",
    "\n",
    "def calc_mean(arr):\n",
    "    return sum(arr) / len(arr)\n",
    "\n",
    "def calc_median(arr):\n",
    "    middle = len(arr) / 2\n",
    "    if middle == round(middle):\n",
    "        return (arr[math.floor(middle)] + arr[math.ceil(middle)]) / 2\n",
    "    else:\n",
    "        return arr[round(middle)]\n",
    "\n",
    "print(\"len\", len(data))\n",
    "print(\"raw data\", data)\n",
    "data.sort()\n",
    "print(\"data\", data)\n",
    "\n",
    "mean = calc_mean(data)\n",
    "print(\"mean\", mean)\n",
    "\n",
    "median = calc_median(data)\n",
    "print(\"median\", median)\n",
    "\n",
    "mode = []\n",
    "most_count = 0\n",
    "match = {}\n",
    "for i in range(0, len(data)):\n",
    "    key = data[i]\n",
    "    count = match.get(key, 0) + 1 \n",
    "    match[key] = count\n",
    "    if count > most_count:\n",
    "        most_count = count\n",
    "        mode = []\n",
    "    if count == most_count:\n",
    "        mode.append(key)\n",
    "print(\"mode\", mode)\n",
    "        \n",
    "# We have 11 numbers. when we have an uneven amount of numbers:\n",
    "# lower half is first 5, and upper half is last 5. \n",
    "# NOTE: 6th number is dropped. Lower and upper half MUST have the same amount of numbers\n",
    "lower = data[slice(0, math.floor(len(data)/2))]\n",
    "print(\"lower\", lower)\n",
    "upper = data[slice(math.ceil(len(data)/2), len(data))]\n",
    "print(\"upper\", upper)\n",
    "q1 = calc_median(lower)\n",
    "q2 = calc_median(data)\n",
    "q3 = calc_median(upper)\n",
    "print(\"q1\", q1)\n",
    "print(\"q2\", q2)\n",
    "print(\"q3\", q3)\n",
    "\n",
    "iqr = q3 - q1\n",
    "print(\"iqr\", iqr)\n",
    "\n",
    "outliers = []\n",
    "for i in range(0, len(data)):\n",
    "    if data[i] < q1 - 1.5 * iqr or data[i] > q3 + 1.5 * iqr:\n",
    "       outliers.append(data[i])\n",
    "\n",
    "print(\"outliers\", outliers)"
   ]
  },
  {
   "cell_type": "code",
   "execution_count": null,
   "id": "3c90e1db-339e-4601-9894-d69fab52011d",
   "metadata": {},
   "outputs": [],
   "source": []
  }
 ],
 "metadata": {
  "kernelspec": {
   "display_name": "Python 3 (ipykernel)",
   "language": "python",
   "name": "python3"
  },
  "language_info": {
   "codemirror_mode": {
    "name": "ipython",
    "version": 3
   },
   "file_extension": ".py",
   "mimetype": "text/x-python",
   "name": "python",
   "nbconvert_exporter": "python",
   "pygments_lexer": "ipython3",
   "version": "3.7.9"
  },
  "toc-autonumbering": true
 },
 "nbformat": 4,
 "nbformat_minor": 5
}
